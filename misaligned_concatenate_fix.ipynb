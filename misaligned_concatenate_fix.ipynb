{
 "cells": [
  {
   "cell_type": "markdown",
   "metadata": {},
   "source": [
    "## Loading from pickle, unordered concatenate problem"
   ]
  },
  {
   "cell_type": "code",
   "execution_count": 4,
   "metadata": {},
   "outputs": [
    {
     "name": "stdout",
     "output_type": "stream",
     "text": [
      "Fetching package metadata .............\n",
      "Solving package specifications: .\n",
      "\n",
      "Package plan for installation in environment /opt/conda:\n",
      "\n",
      "The following NEW packages will be INSTALLED:\n",
      "\n",
      "    s3fs: 0.1.4-py_0 conda-forge\n",
      "\n",
      "s3fs-0.1.4-py_ 100% |################################| Time: 0:00:00 222.52 kB/s\n"
     ]
    }
   ],
   "source": [
    "!conda install -y -c conda-forge s3fs"
   ]
  },
  {
   "cell_type": "code",
   "execution_count": 104,
   "metadata": {},
   "outputs": [],
   "source": [
    "import pickle\n",
    "import bisect\n",
    "\n",
    "import iris\n",
    "import s3fs\n",
    "import numpy as np\n",
    "from toolz.curried import *"
   ]
  },
  {
   "cell_type": "markdown",
   "metadata": {},
   "source": [
    "## Loading pickled files from S3\n",
    "One model run per file"
   ]
  },
  {
   "cell_type": "code",
   "execution_count": 29,
   "metadata": {},
   "outputs": [
    {
     "data": {
      "text/plain": [
       "['mogreps-pickles/wet_bulb_potential_temperature/mogreps-g_20161201_00_wet_bulb_potential_temperature.pickle',\n",
       " 'mogreps-pickles/wet_bulb_potential_temperature/mogreps-g_20161202_00_wet_bulb_potential_temperature.pickle']"
      ]
     },
     "execution_count": 29,
     "metadata": {},
     "output_type": "execute_result"
    }
   ],
   "source": [
    "fs = s3fs.S3FileSystem(anon=True)\n",
    "files = fs.ls('mogreps-pickles/wet_bulb_potential_temperature')\n",
    "files[:2]"
   ]
  },
  {
   "cell_type": "code",
   "execution_count": 48,
   "metadata": {},
   "outputs": [
    {
     "name": "stdout",
     "output_type": "stream",
     "text": [
      "0: wet_bulb_potential_temperature / (K) (forecast_reference_time: 1; forecast_period: 56; realization: 12; pressure: 3; latitude: 600; longitude: 800)\n",
      "1: wet_bulb_potential_temperature / (K) (forecast_reference_time: 1; forecast_period: 56; realization: 12; pressure: 3; latitude: 600; longitude: 800)\n",
      "2: wet_bulb_potential_temperature / (K) (forecast_reference_time: 1; forecast_period: 56; realization: 12; pressure: 3; latitude: 600; longitude: 800)\n",
      "3: wet_bulb_potential_temperature / (K) (forecast_reference_time: 1; forecast_period: 56; realization: 12; pressure: 3; latitude: 600; longitude: 800)\n",
      "4: wet_bulb_potential_temperature / (K) (forecast_reference_time: 1; forecast_period: 56; realization: 12; pressure: 3; latitude: 600; longitude: 800)\n",
      "5: wet_bulb_potential_temperature / (K) (forecast_reference_time: 1; forecast_period: 56; realization: 12; pressure: 3; latitude: 600; longitude: 800)\n",
      "6: wet_bulb_potential_temperature / (K) (forecast_reference_time: 1; forecast_period: 56; realization: 12; pressure: 3; latitude: 600; longitude: 800)\n",
      "7: wet_bulb_potential_temperature / (K) (forecast_reference_time: 1; forecast_period: 56; realization: 11; pressure: 3; latitude: 600; longitude: 800)\n",
      "8: wet_bulb_potential_temperature / (K) (forecast_reference_time: 1; forecast_period: 55; realization: 1; pressure: 3; latitude: 600; longitude: 800)\n",
      "9: wet_bulb_potential_temperature / (K) (forecast_reference_time: 1; forecast_period: 1; realization: 1; pressure: 3; latitude: 600; longitude: 800)\n",
      "10: wet_bulb_potential_temperature / (K) (forecast_reference_time: 1; forecast_period: 56; realization: 12; pressure: 3; latitude: 600; longitude: 800)\n",
      "11: wet_bulb_potential_temperature / (K) (forecast_reference_time: 1; forecast_period: 56; realization: 12; pressure: 3; latitude: 600; longitude: 800)\n",
      "12: wet_bulb_potential_temperature / (K) (forecast_reference_time: 1; forecast_period: 56; realization: 12; pressure: 3; latitude: 600; longitude: 800)\n",
      "13: wet_bulb_potential_temperature / (K) (forecast_reference_time: 1; forecast_period: 56; realization: 12; pressure: 3; latitude: 600; longitude: 800)\n",
      "14: wet_bulb_potential_temperature / (K) (forecast_reference_time: 1; forecast_period: 56; realization: 12; pressure: 3; latitude: 600; longitude: 800)\n",
      "15: wet_bulb_potential_temperature / (K) (forecast_reference_time: 1; forecast_period: 56; realization: 12; pressure: 3; latitude: 600; longitude: 800)\n",
      "16: wet_bulb_potential_temperature / (K) (forecast_reference_time: 1; forecast_period: 56; realization: 12; pressure: 3; latitude: 600; longitude: 800)\n",
      "17: wet_bulb_potential_temperature / (K) (forecast_reference_time: 1; forecast_period: 56; realization: 12; pressure: 3; latitude: 600; longitude: 800)\n",
      "18: wet_bulb_potential_temperature / (K) (forecast_reference_time: 1; forecast_period: 56; realization: 12; pressure: 3; latitude: 600; longitude: 800)\n",
      "19: wet_bulb_potential_temperature / (K) (forecast_reference_time: 1; forecast_period: 56; realization: 12; pressure: 3; latitude: 600; longitude: 800)\n",
      "20: wet_bulb_potential_temperature / (K) (forecast_reference_time: 1; forecast_period: 56; realization: 12; pressure: 3; latitude: 600; longitude: 800)\n",
      "21: wet_bulb_potential_temperature / (K) (forecast_reference_time: 1; forecast_period: 56; realization: 11; pressure: 3; latitude: 600; longitude: 800)\n",
      "22: wet_bulb_potential_temperature / (K) (forecast_reference_time: 1; forecast_period: 55; realization: 1; pressure: 3; latitude: 600; longitude: 800)\n",
      "23: wet_bulb_potential_temperature / (K) (forecast_reference_time: 1; forecast_period: 1; realization: 1; pressure: 3; latitude: 600; longitude: 800)\n",
      "24: wet_bulb_potential_temperature / (K) (forecast_reference_time: 1; forecast_period: 56; realization: 12; pressure: 3; latitude: 600; longitude: 800)\n",
      "25: wet_bulb_potential_temperature / (K) (forecast_reference_time: 1; forecast_period: 56; realization: 12; pressure: 3; latitude: 600; longitude: 800)\n",
      "26: wet_bulb_potential_temperature / (K) (forecast_reference_time: 1; forecast_period: 56; realization: 12; pressure: 3; latitude: 600; longitude: 800)\n",
      "27: wet_bulb_potential_temperature / (K) (forecast_reference_time: 1; forecast_period: 56; realization: 12; pressure: 3; latitude: 600; longitude: 800)\n",
      "28: wet_bulb_potential_temperature / (K) (forecast_reference_time: 1; forecast_period: 56; realization: 12; pressure: 3; latitude: 600; longitude: 800)\n",
      "29: wet_bulb_potential_temperature / (K) (forecast_reference_time: 1; forecast_period: 56; realization: 12; pressure: 3; latitude: 600; longitude: 800)\n",
      "30: wet_bulb_potential_temperature / (K) (forecast_reference_time: 1; forecast_period: 56; realization: 12; pressure: 3; latitude: 600; longitude: 800)\n",
      "31: wet_bulb_potential_temperature / (K) (forecast_reference_time: 1; forecast_period: 56; realization: 12; pressure: 3; latitude: 600; longitude: 800)\n",
      "32: wet_bulb_potential_temperature / (K) (forecast_reference_time: 1; forecast_period: 56; realization: 12; pressure: 3; latitude: 600; longitude: 800)\n",
      "33: wet_bulb_potential_temperature / (K) (forecast_reference_time: 1; forecast_period: 56; realization: 12; pressure: 3; latitude: 600; longitude: 800)\n",
      "34: wet_bulb_potential_temperature / (K) (forecast_reference_time: 1; forecast_period: 56; realization: 12; pressure: 3; latitude: 600; longitude: 800)\n"
     ]
    }
   ],
   "source": [
    "def unpickle(fname, prefix='/s3/'):\n",
    "    with open('{}{}'.format(prefix, fname), 'rb') as inf:\n",
    "        return pickle.load(inf)\n",
    "\n",
    "cubes = iris.cube.CubeList(\n",
    "    pipe(files, mapcat(unpickle)))\n",
    "print(cubes)"
   ]
  },
  {
   "cell_type": "code",
   "execution_count": 49,
   "metadata": {},
   "outputs": [
    {
     "name": "stdout",
     "output_type": "stream",
     "text": [
      "0: wet_bulb_potential_temperature / (K) (forecast_reference_time: 29; forecast_period: 56; realization: 12; pressure: 3; latitude: 600; longitude: 800)\n",
      "1: wet_bulb_potential_temperature / (K) (forecast_reference_time: 1; forecast_period: 56; realization: 11; pressure: 3; latitude: 600; longitude: 800)\n",
      "2: wet_bulb_potential_temperature / (K) (forecast_reference_time: 1; forecast_period: 55; realization: 1; pressure: 3; latitude: 600; longitude: 800)\n",
      "3: wet_bulb_potential_temperature / (K) (forecast_reference_time: 1; forecast_period: 1; realization: 1; pressure: 3; latitude: 600; longitude: 800)\n",
      "4: wet_bulb_potential_temperature / (K) (forecast_reference_time: 1; forecast_period: 56; realization: 11; pressure: 3; latitude: 600; longitude: 800)\n",
      "5: wet_bulb_potential_temperature / (K) (forecast_reference_time: 1; forecast_period: 55; realization: 1; pressure: 3; latitude: 600; longitude: 800)\n",
      "6: wet_bulb_potential_temperature / (K) (forecast_reference_time: 1; forecast_period: 1; realization: 1; pressure: 3; latitude: 600; longitude: 800)\n"
     ]
    }
   ],
   "source": [
    "cubes = cubes.concatenate()\n",
    "print(cubes)"
   ]
  },
  {
   "cell_type": "markdown",
   "metadata": {},
   "source": [
    "## Multistep concatenation\n",
    "Why have these cubes not concatenated cleanly?"
   ]
  },
  {
   "cell_type": "code",
   "execution_count": 50,
   "metadata": {},
   "outputs": [
    {
     "name": "stdout",
     "output_type": "stream",
     "text": [
      "DimCoord([2016-12-01 00:00:00, 2016-12-02 00:00:00, 2016-12-03 00:00:00,\n",
      "       2016-12-04 00:00:00, 2016-12-05 00:00:00, 2016-12-06 00:00:00,\n",
      "       2016-12-07 00:00:00, 2016-12-09 00:00:00, 2016-12-10 00:00:00,\n",
      "       2016-12-11 00:00:00, 2016-12-12 00:00:00, 2016-12-13 00:00:00,\n",
      "       2016-12-14 00:00:00, 2016-12-15 00:00:00, 2016-12-16 00:00:00,\n",
      "       2016-12-17 00:00:00, 2016-12-18 00:00:00, 2016-12-19 00:00:00,\n",
      "       2016-12-21 00:00:00, 2016-12-22 00:00:00, 2016-12-23 00:00:00,\n",
      "       2016-12-24 00:00:00, 2016-12-25 00:00:00, 2016-12-26 00:00:00,\n",
      "       2016-12-27 00:00:00, 2016-12-28 00:00:00, 2016-12-29 00:00:00,\n",
      "       2016-12-30 00:00:00, 2016-12-31 00:00:00], standard_name='forecast_reference_time', calendar='gregorian')\n",
      "DimCoord([2016-12-08 00:00:00], standard_name='forecast_reference_time', calendar='gregorian')\n",
      "DimCoord([2016-12-08 00:00:00], standard_name='forecast_reference_time', calendar='gregorian')\n",
      "DimCoord([2016-12-08 00:00:00], standard_name='forecast_reference_time', calendar='gregorian')\n",
      "DimCoord([2016-12-20 00:00:00], standard_name='forecast_reference_time', calendar='gregorian')\n",
      "DimCoord([2016-12-20 00:00:00], standard_name='forecast_reference_time', calendar='gregorian')\n",
      "DimCoord([2016-12-20 00:00:00], standard_name='forecast_reference_time', calendar='gregorian')\n"
     ]
    }
   ],
   "source": [
    "for c in cubes:\n",
    "    print(c.coord('forecast_reference_time'))"
   ]
  },
  {
   "cell_type": "markdown",
   "metadata": {},
   "source": [
    "The model runs for December 8th and 20th have not concatenated cleanly"
   ]
  },
  {
   "cell_type": "code",
   "execution_count": 87,
   "metadata": {},
   "outputs": [],
   "source": [
    "frt_coord_points = lambda cube: cube.coord('forecast_reference_time').points\n",
    "frt_filter = lambda cube: len(frt_coord_points(cube)) == 1\n",
    "frt_grouper = lambda cube: frt_coord_points(cube)[0]\n",
    "\n",
    "samples = pipe(\n",
    "    cubes,\n",
    "    filter(frt_filter),\n",
    "    groupby(frt_grouper), valmap(iris.cube.CubeList))"
   ]
  },
  {
   "cell_type": "code",
   "execution_count": 90,
   "metadata": {},
   "outputs": [
    {
     "name": "stdout",
     "output_type": "stream",
     "text": [
      "{411432.0: [<iris 'Cube' of wet_bulb_potential_temperature / (K) (forecast_reference_time: 1; forecast_period: 56; realization: 11; pressure: 3; latitude: 600; longitude: 800)>,\n",
      "<iris 'Cube' of wet_bulb_potential_temperature / (K) (forecast_reference_time: 1; forecast_period: 55; realization: 1; pressure: 3; latitude: 600; longitude: 800)>,\n",
      "<iris 'Cube' of wet_bulb_potential_temperature / (K) (forecast_reference_time: 1; forecast_period: 1; realization: 1; pressure: 3; latitude: 600; longitude: 800)>], 411720.0: [<iris 'Cube' of wet_bulb_potential_temperature / (K) (forecast_reference_time: 1; forecast_period: 56; realization: 11; pressure: 3; latitude: 600; longitude: 800)>,\n",
      "<iris 'Cube' of wet_bulb_potential_temperature / (K) (forecast_reference_time: 1; forecast_period: 55; realization: 1; pressure: 3; latitude: 600; longitude: 800)>,\n",
      "<iris 'Cube' of wet_bulb_potential_temperature / (K) (forecast_reference_time: 1; forecast_period: 1; realization: 1; pressure: 3; latitude: 600; longitude: 800)>]}\n"
     ]
    }
   ],
   "source": [
    "print(samples)"
   ]
  },
  {
   "cell_type": "code",
   "execution_count": 96,
   "metadata": {},
   "outputs": [
    {
     "name": "stdout",
     "output_type": "stream",
     "text": [
      "0: wet_bulb_potential_temperature / (K) (forecast_reference_time: 1; forecast_period: 56; realization: 11; pressure: 3; latitude: 600; longitude: 800)\n",
      "1: wet_bulb_potential_temperature / (K) (forecast_reference_time: 1; forecast_period: 55; realization: 1; pressure: 3; latitude: 600; longitude: 800)\n",
      "2: wet_bulb_potential_temperature / (K) (forecast_reference_time: 1; forecast_period: 1; realization: 1; pressure: 3; latitude: 600; longitude: 800)\n"
     ]
    }
   ],
   "source": [
    "run1 = samples[411432.0]\n",
    "print(run1)"
   ]
  },
  {
   "cell_type": "code",
   "execution_count": 95,
   "metadata": {},
   "outputs": [
    {
     "ename": "ConcatenateError",
     "evalue": "failed to concatenate into a single cube.\n  An unexpected problem prevented concatenation.\n  Expected only a single cube, found 3.",
     "output_type": "error",
     "traceback": [
      "\u001b[0;31m---------------------------------------------------------------------------\u001b[0m",
      "\u001b[0;31mConcatenateError\u001b[0m                          Traceback (most recent call last)",
      "\u001b[0;32m<ipython-input-95-aa54019c0be1>\u001b[0m in \u001b[0;36m<module>\u001b[0;34m()\u001b[0m\n\u001b[0;32m----> 1\u001b[0;31m \u001b[0mrun1\u001b[0m\u001b[0;34m.\u001b[0m\u001b[0mconcatenate_cube\u001b[0m\u001b[0;34m(\u001b[0m\u001b[0;34m)\u001b[0m\u001b[0;34m\u001b[0m\u001b[0m\n\u001b[0m",
      "\u001b[0;32m/opt/conda/lib/python3.6/site-packages/iris/cube.py\u001b[0m in \u001b[0;36mconcatenate_cube\u001b[0;34m(self, check_aux_coords)\u001b[0m\n\u001b[1;32m    507\u001b[0m                 msgs.append('Expected only a single cube, '\n\u001b[1;32m    508\u001b[0m                             'found {}.'.format(n_res_cubes))\n\u001b[0;32m--> 509\u001b[0;31m                 \u001b[0;32mraise\u001b[0m \u001b[0miris\u001b[0m\u001b[0;34m.\u001b[0m\u001b[0mexceptions\u001b[0m\u001b[0;34m.\u001b[0m\u001b[0mConcatenateError\u001b[0m\u001b[0;34m(\u001b[0m\u001b[0mmsgs\u001b[0m\u001b[0;34m)\u001b[0m\u001b[0;34m\u001b[0m\u001b[0m\n\u001b[0m\u001b[1;32m    510\u001b[0m         \u001b[0;32melse\u001b[0m\u001b[0;34m:\u001b[0m\u001b[0;34m\u001b[0m\u001b[0m\n\u001b[1;32m    511\u001b[0m             \u001b[0mmsgs\u001b[0m \u001b[0;34m=\u001b[0m \u001b[0;34m[\u001b[0m\u001b[0;34m]\u001b[0m\u001b[0;34m\u001b[0m\u001b[0m\n",
      "\u001b[0;31mConcatenateError\u001b[0m: failed to concatenate into a single cube.\n  An unexpected problem prevented concatenation.\n  Expected only a single cube, found 3."
     ]
    }
   ],
   "source": [
    "run1.concatenate_cube()"
   ]
  },
  {
   "cell_type": "markdown",
   "metadata": {},
   "source": [
    "Visually it looks like there are two problems - one of the realisations is missing from the biggest cube, and it's missing because one of the forecast periods is missing from the second biggest cube."
   ]
  },
  {
   "cell_type": "code",
   "execution_count": 101,
   "metadata": {},
   "outputs": [
    {
     "name": "stdout",
     "output_type": "stream",
     "text": [
      "[ 0  1  2  4  5  6  7  8  9 10 11]\n",
      "[3]\n",
      "[3]\n",
      "[   9.   12.   15.   18.   21.   24.   27.   30.   33.   36.   39.   42.\n",
      "   45.   48.   51.   54.   57.   60.   63.   66.   69.   72.   75.   78.\n",
      "   81.   84.   87.   90.   93.   96.   99.  102.  105.  108.  111.  114.\n",
      "  117.  120.  123.  126.  129.  132.  135.  138.  141.  144.  147.  150.\n",
      "  153.  156.  159.  162.  165.  168.  171.  174.]\n",
      "[   9.   12.   15.   18.   21.   24.   27.   30.   33.   36.   39.   42.\n",
      "   45.   48.   51.   54.   57.   60.   63.   66.   69.   72.   75.   78.\n",
      "   81.   84.   87.   90.   93.   96.   99.  102.  105.  108.  111.  114.\n",
      "  117.  120.  126.  129.  132.  135.  138.  141.  144.  147.  150.  153.\n",
      "  156.  159.  162.  165.  168.  171.  174.]\n",
      "[ 123.]\n"
     ]
    }
   ],
   "source": [
    "for c in run1:\n",
    "    print(c.coord('realization').points)\n",
    "    \n",
    "for c in run1:\n",
    "    print(c.coord('forecast_period').points)"
   ]
  },
  {
   "cell_type": "markdown",
   "metadata": {},
   "source": [
    "Step 1: Combine the two [3] realisation cubes"
   ]
  },
  {
   "cell_type": "code",
   "execution_count": 110,
   "metadata": {},
   "outputs": [
    {
     "name": "stdout",
     "output_type": "stream",
     "text": [
      "38\n"
     ]
    }
   ],
   "source": [
    "insert_index = bisect.bisect(\n",
    "    run1[1].coord('forecast_period').points,\n",
    "    run1[2].coord('forecast_period').points)\n",
    "print(insert_index)"
   ]
  },
  {
   "cell_type": "code",
   "execution_count": 117,
   "metadata": {},
   "outputs": [
    {
     "data": {
      "text/plain": [
       "<iris 'Cube' of wet_bulb_potential_temperature / (K) (forecast_reference_time: 1; forecast_period: 56; realization: 1; pressure: 3; latitude: 600; longitude: 800)>"
      ]
     },
     "execution_count": 117,
     "metadata": {},
     "output_type": "execute_result"
    }
   ],
   "source": [
    "step1 = iris.cube.CubeList([\n",
    "    run1[1][:, :insert_index],\n",
    "    run1[2],\n",
    "    run1[1][:, insert_index:]]).concatenate_cube()\n",
    "step1"
   ]
  },
  {
   "cell_type": "code",
   "execution_count": 118,
   "metadata": {},
   "outputs": [
    {
     "name": "stdout",
     "output_type": "stream",
     "text": [
      "3\n"
     ]
    }
   ],
   "source": [
    "insert_index2 = bisect.bisect(\n",
    "    run1[0].coord('realization').points,\n",
    "    step1.coord('realization').points)\n",
    "print(insert_index2)"
   ]
  },
  {
   "cell_type": "code",
   "execution_count": 121,
   "metadata": {},
   "outputs": [
    {
     "data": {
      "text/plain": [
       "<iris 'Cube' of wet_bulb_potential_temperature / (K) (forecast_reference_time: 1; forecast_period: 56; realization: 12; pressure: 3; latitude: 600; longitude: 800)>"
      ]
     },
     "execution_count": 121,
     "metadata": {},
     "output_type": "execute_result"
    }
   ],
   "source": [
    "run1_cube = iris.cube.CubeList([\n",
    "    run1[0][:, :, :insert_index2],\n",
    "    step1,\n",
    "    run1[0][:, :, insert_index2:]]).concatenate_cube()\n",
    "run1_cube"
   ]
  },
  {
   "cell_type": "markdown",
   "metadata": {},
   "source": [
    "Now repeat the above for the second model run (likely bisecting forecast_period and realization again), then repeat again for the original cubelist (where you'll need to bisect forecast_reference_time), and they should all combine.\n",
    "\n"
   ]
  },
  {
   "cell_type": "markdown",
   "metadata": {},
   "source": [
    "How would that work programatically? Some kind of recursive partitioning of cubes. Difficult part is identifying the co-ordinate to partion by.\n",
    "\n",
    "Can't figure that out immediately, just gone for the copy paste hack below."
   ]
  },
  {
   "cell_type": "code",
   "execution_count": 123,
   "metadata": {},
   "outputs": [
    {
     "name": "stdout",
     "output_type": "stream",
     "text": [
      "1\n"
     ]
    },
    {
     "data": {
      "text/plain": [
       "<iris 'Cube' of wet_bulb_potential_temperature / (K) (forecast_reference_time: 1; forecast_period: 56; realization: 12; pressure: 3; latitude: 600; longitude: 800)>"
      ]
     },
     "execution_count": 123,
     "metadata": {},
     "output_type": "execute_result"
    }
   ],
   "source": [
    "run2 = samples[411720.0]\n",
    "insert_index = bisect.bisect(\n",
    "    run2[1].coord('forecast_period').points,\n",
    "    run2[2].coord('forecast_period').points)\n",
    "step1 = iris.cube.CubeList([\n",
    "    run2[1][:, :insert_index],\n",
    "    run2[2],\n",
    "    run2[1][:, insert_index:]]).concatenate_cube()\n",
    "step1\n",
    "insert_index2 = bisect.bisect(\n",
    "    run2[0].coord('realization').points,\n",
    "    step1.coord('realization').points)\n",
    "print(insert_index2)\n",
    "run2_cube = iris.cube.CubeList([\n",
    "    run2[0][:, :, :insert_index2],\n",
    "    step1,\n",
    "    run2[0][:, :, insert_index2:]]).concatenate_cube()\n",
    "run2_cube"
   ]
  },
  {
   "cell_type": "code",
   "execution_count": 125,
   "metadata": {},
   "outputs": [
    {
     "data": {
      "text/plain": [
       "[<iris 'Cube' of wet_bulb_potential_temperature / (K) (forecast_reference_time: 29; forecast_period: 56; realization: 12; pressure: 3; latitude: 600; longitude: 800)>,\n",
       "<iris 'Cube' of wet_bulb_potential_temperature / (K) (forecast_reference_time: 1; forecast_period: 56; realization: 12; pressure: 3; latitude: 600; longitude: 800)>,\n",
       "<iris 'Cube' of wet_bulb_potential_temperature / (K) (forecast_reference_time: 1; forecast_period: 56; realization: 12; pressure: 3; latitude: 600; longitude: 800)>]"
      ]
     },
     "execution_count": 125,
     "metadata": {},
     "output_type": "execute_result"
    }
   ],
   "source": [
    "result1 = iris.cube.CubeList([cubes[0], run1_cube, run2_cube])\n",
    "result1"
   ]
  },
  {
   "cell_type": "code",
   "execution_count": 126,
   "metadata": {},
   "outputs": [
    {
     "name": "stdout",
     "output_type": "stream",
     "text": [
      "7 18\n"
     ]
    }
   ],
   "source": [
    "insert_index1 = bisect.bisect(\n",
    "    result1[0].coord('forecast_reference_time').points,\n",
    "    result1[1].coord('forecast_reference_time').points)\n",
    "insert_index2 = bisect.bisect(\n",
    "    result1[0].coord('forecast_reference_time').points,\n",
    "    result1[2].coord('forecast_reference_time').points)\n",
    "print(insert_index1, insert_index2)"
   ]
  },
  {
   "cell_type": "code",
   "execution_count": 129,
   "metadata": {},
   "outputs": [],
   "source": [
    "finale = iris.cube.CubeList([\n",
    "    result1[0][:insert_index1],\n",
    "    result1[1],\n",
    "    result1[0][insert_index1:insert_index2],\n",
    "    result1[2],\n",
    "    result1[0][insert_index2:]\n",
    "]).concatenate_cube()"
   ]
  },
  {
   "cell_type": "code",
   "execution_count": 130,
   "metadata": {},
   "outputs": [
    {
     "data": {
      "text/plain": [
       "<iris 'Cube' of wet_bulb_potential_temperature / (K) (forecast_reference_time: 31; forecast_period: 56; realization: 12; pressure: 3; latitude: 600; longitude: 800)>"
      ]
     },
     "execution_count": 130,
     "metadata": {},
     "output_type": "execute_result"
    }
   ],
   "source": [
    "finale"
   ]
  },
  {
   "cell_type": "code",
   "execution_count": null,
   "metadata": {},
   "outputs": [],
   "source": [
    "with open('./mogreps-g_201612_00_wet_bulb_potential_temperature.pickle', 'wb') as outf:\n",
    "    pickle.dump(finale,)"
   ]
  }
 ],
 "metadata": {
  "kernelspec": {
   "display_name": "Python 3",
   "language": "python",
   "name": "python3"
  },
  "language_info": {
   "codemirror_mode": {
    "name": "ipython",
    "version": 3
   },
   "file_extension": ".py",
   "mimetype": "text/x-python",
   "name": "python",
   "nbconvert_exporter": "python",
   "pygments_lexer": "ipython3",
   "version": "3.6.4"
  }
 },
 "nbformat": 4,
 "nbformat_minor": 2
}
