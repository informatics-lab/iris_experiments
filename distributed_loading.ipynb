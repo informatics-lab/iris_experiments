{
 "cells": [
  {
   "cell_type": "code",
   "execution_count": 1,
   "metadata": {},
   "outputs": [],
   "source": [
    "import pickle\n",
    "from datetime import datetime\n",
    "from itertools import product\n",
    "import collections\n",
    "\n",
    "import iris\n",
    "import cf_units\n",
    "import dask\n",
    "import dask.bag as db\n",
    "import distributed\n",
    "from dask_kubernetes import KubeCluster\n",
    "import numpy as np\n",
    "\n",
    "%matplotlib inline\n",
    "%config InlineBackend.figure_format = 'retina'  # Optional for retina displays"
   ]
  },
  {
   "cell_type": "code",
   "execution_count": 4,
   "metadata": {},
   "outputs": [
    {
     "data": {
      "application/vnd.jupyter.widget-view+json": {
       "model_id": "afebacfd9c0d48789b3da5eb5b6b3ef5",
       "version_major": 2,
       "version_minor": 0
      },
      "text/html": [
       "<p>Failed to display Jupyter Widget of type <code>VBox</code>.</p>\n",
       "<p>\n",
       "  If you're reading this message in the Jupyter Notebook or JupyterLab Notebook, it may mean\n",
       "  that the widgets JavaScript is still loading. If this message persists, it\n",
       "  likely means that the widgets JavaScript library is either not installed or\n",
       "  not enabled. See the <a href=\"https://ipywidgets.readthedocs.io/en/stable/user_install.html\">Jupyter\n",
       "  Widgets Documentation</a> for setup instructions.\n",
       "</p>\n",
       "<p>\n",
       "  If you're reading this message in another frontend (for example, a static\n",
       "  rendering on GitHub or <a href=\"https://nbviewer.jupyter.org/\">NBViewer</a>),\n",
       "  it may mean that your frontend doesn't currently support widgets.\n",
       "</p>\n"
      ],
      "text/plain": [
       "VBox(children=(HTML(value='<b>Dashboard:</b> <a href=\"/user/alexhilson/proxy/42253/status\" target=\"_blank\">/user/alexhilson/proxy/42253/status</a>'), IntText(value=1, description='Requested', layout=Layout(width='150px')), Text(value='1', description='Actual', layout=Layout(width='150px')), Button(description='Scale', layout=Layout(width='150px'), style=ButtonStyle())))"
      ]
     },
     "metadata": {},
     "output_type": "display_data"
    }
   ],
   "source": [
    "cluster"
   ]
  },
  {
   "cell_type": "code",
   "execution_count": 3,
   "metadata": {},
   "outputs": [
    {
     "data": {
      "text/html": [
       "<table style=\"border: 2px solid white;\">\n",
       "<tr>\n",
       "<td style=\"vertical-align: top; border: 0px solid white\">\n",
       "<h3>Client</h3>\n",
       "<ul>\n",
       "  <li><b>Scheduler: </b>tcp://100.96.128.114:45371\n",
       "  <li><b>Dashboard: </b><a href='http://100.96.128.114:33713/status' target='_blank'>http://100.96.128.114:33713/status</a>\n",
       "</ul>\n",
       "</td>\n",
       "<td style=\"vertical-align: top; border: 0px solid white\">\n",
       "<h3>Cluster</h3>\n",
       "<ul>\n",
       "  <li><b>Workers: </b>10</li>\n",
       "  <li><b>Cores: </b>10</li>\n",
       "  <li><b>Memory: </b>30.00 GB</li>\n",
       "</ul>\n",
       "</td>\n",
       "</tr>\n",
       "</table>"
      ],
      "text/plain": [
       "<Client: scheduler='tcp://100.96.128.114:45371' processes=10 cores=10>"
      ]
     },
     "execution_count": 3,
     "metadata": {},
     "output_type": "execute_result"
    }
   ],
   "source": [
    "client = distributed.Client(cluster.scheduler_address)\n",
    "client"
   ]
  },
  {
   "cell_type": "code",
   "execution_count": 4,
   "metadata": {},
   "outputs": [
    {
     "name": "stdout",
     "output_type": "stream",
     "text": [
      "['/s3/mogreps-g/prods_op_mogreps-g_20160101_00_00_009.nc', '/s3/mogreps-g/prods_op_mogreps-g_20160101_00_00_012.nc', '/s3/mogreps-g/prods_op_mogreps-g_20160101_00_00_015.nc']\n",
      "2688\n"
     ]
    }
   ],
   "source": [
    "def format_filename(dataset_name, year, month, day, run, realization, forecast_period):\n",
    "    template_string = \"/s3/{}/prods_op_{}_{:02d}{:02d}{:02d}_{:02d}_{:02d}_{:03d}.nc\"\n",
    "    return template_string.format(dataset_name, dataset_name, year, month, day, run, realization, forecast_period)\n",
    "\n",
    "def gen_filenames(dataset_name, years, months, days, runs, realizations, forecasts):\n",
    "    return [\n",
    "        format_filename('mogreps-g', year, month, day, run, realisation, forecast)\n",
    "        for year, month, day, run, realisation, forecast in product(years, months, days, runs, realizations, forecasts)\n",
    "    ]\n",
    "\n",
    "filenames = gen_filenames(\n",
    "    dataset_name='mogreps-g',\n",
    "    years=[2016],\n",
    "    months=[1],\n",
    "    days=range(1, 3),\n",
    "    runs=[0, 12],\n",
    "    realizations=range(12),\n",
    "    forecasts=range(9, 175, 3)\n",
    "    )\n",
    "\n",
    "print(filenames[:3])\n",
    "print(len(filenames))"
   ]
  },
  {
   "cell_type": "code",
   "execution_count": 6,
   "metadata": {},
   "outputs": [],
   "source": [
    "# Fast\n",
    "def serial_load(cube, field, filename):\n",
    "    with dask.set_options(get=dask.threaded.get):\n",
    "        for c in cube.coords(dim_coords=False):\n",
    "            _ = c.points\n",
    "            _ = c.bounds\n",
    "    return cube\n",
    "\n",
    "\n",
    "@dask.delayed\n",
    "def load_s(fname):\n",
    "    return iris.load_raw(fname, callback=serial_load)\n",
    "\n",
    "\n",
    "# Slow\n",
    "def distributed_load(cube, field, filename):\n",
    "    for c in cube.coords(dim_coords=False):\n",
    "            _ = c.points\n",
    "            _ = c.bounds\n",
    "    return cube\n",
    "\n",
    "@dask.delayed\n",
    "def load_d(fname):\n",
    "    return iris.load_raw(fname, callback=distributed_load)\n"
   ]
  },
  {
   "cell_type": "code",
   "execution_count": 41,
   "metadata": {},
   "outputs": [
    {
     "name": "stdout",
     "output_type": "stream",
     "text": [
      "CPU times: user 11.9 s, sys: 1.5 s, total: 13.4 s\n",
      "Wall time: 24.7 s\n"
     ]
    }
   ],
   "source": [
    "%%time\n",
    "# warning: slow\n",
    "cubes = db.from_delayed([load_d(f) for f in filenames[:20]])\n",
    "results = iris.cube.CubeList(cubes.compute())"
   ]
  },
  {
   "cell_type": "code",
   "execution_count": 42,
   "metadata": {},
   "outputs": [
    {
     "name": "stdout",
     "output_type": "stream",
     "text": [
      "551 ms ± 40.3 ms per loop (mean ± std. dev. of 7 runs, 1 loop each)\n"
     ]
    }
   ],
   "source": [
    "%%timeit\n",
    "merged_results = results.merge()"
   ]
  },
  {
   "cell_type": "code",
   "execution_count": 43,
   "metadata": {},
   "outputs": [
    {
     "name": "stdout",
     "output_type": "stream",
     "text": [
      "CPU times: user 800 ms, sys: 32 ms, total: 832 ms\n",
      "Wall time: 5.53 s\n"
     ]
    }
   ],
   "source": [
    "%%time\n",
    "cubes2 = db.from_delayed([load_s(f) for f in filenames[:20]])\n",
    "results2 = iris.cube.CubeList(cubes2.compute())"
   ]
  },
  {
   "cell_type": "code",
   "execution_count": 44,
   "metadata": {},
   "outputs": [
    {
     "name": "stdout",
     "output_type": "stream",
     "text": [
      "543 ms ± 28.2 ms per loop (mean ± std. dev. of 7 runs, 1 loop each)\n"
     ]
    }
   ],
   "source": [
    "%%timeit\n",
    "merged_results2 = results2.merge()"
   ]
  },
  {
   "cell_type": "code",
   "execution_count": 38,
   "metadata": {},
   "outputs": [
    {
     "data": {
      "text/plain": [
       "[<iris 'Cube' of wet_bulb_freezing_level_altitude / (m) (time: 10; latitude: 600; longitude: 800)>,\n",
       "<iris 'Cube' of wet_bulb_potential_temperature / (K) (time: 10; pressure: 3; latitude: 600; longitude: 800)>,\n",
       "<iris 'Cube' of air_pressure_at_sea_level / (Pa) (time: 10; latitude: 600; longitude: 800)>,\n",
       "<iris 'Cube' of air_temperature / (K) (forecast_period: 10; latitude: 600; longitude: 800)>,\n",
       "<iris 'Cube' of air_temperature / (K) (forecast_period: 10; latitude: 600; longitude: 800)>,\n",
       "<iris 'Cube' of air_temperature / (K) (time: 10; pressure: 16; latitude: 600; longitude: 800)>,\n",
       "<iris 'Cube' of air_temperature / (K) (time: 10; latitude: 600; longitude: 800)>,\n",
       "<iris 'Cube' of dew_point_temperature / (K) (time: 10; latitude: 600; longitude: 800)>,\n",
       "<iris 'Cube' of fog_area_fraction / (1) (time: 10; latitude: 600; longitude: 800)>,\n",
       "<iris 'Cube' of geopotential_height / (m) (time: 10; pressure: 9; latitude: 600; longitude: 800)>,\n",
       "<iris 'Cube' of high_type_cloud_area_fraction / (1) (time: 10; latitude: 600; longitude: 800)>,\n",
       "<iris 'Cube' of low_type_cloud_area_fraction / (1) (time: 10; latitude: 600; longitude: 800)>,\n",
       "<iris 'Cube' of medium_type_cloud_area_fraction / (1) (time: 10; latitude: 600; longitude: 800)>,\n",
       "<iris 'Cube' of relative_humidity / (%) (time: 10; pressure: 16; latitude: 600; longitude: 800)>,\n",
       "<iris 'Cube' of relative_humidity / (%) (time: 10; latitude: 600; longitude: 800)>,\n",
       "<iris 'Cube' of stratiform_rainfall_amount / (kg m-2) (forecast_period: 10; latitude: 600; longitude: 800)>,\n",
       "<iris 'Cube' of stratiform_snowfall_amount / (kg m-2) (forecast_period: 10; latitude: 600; longitude: 800)>,\n",
       "<iris 'Cube' of surface_downward_eastward_stress / (Pa) (time: 10; latitude: 600; longitude: 800)>,\n",
       "<iris 'Cube' of surface_downward_northward_stress / (Pa) (time: 10; latitude: 601; longitude: 800)>,\n",
       "<iris 'Cube' of visibility_in_air / (m) (time: 10; latitude: 600; longitude: 800)>,\n",
       "<iris 'Cube' of wind_speed_of_gust / (m s-1) (forecast_period: 10; latitude: 600; longitude: 800)>,\n",
       "<iris 'Cube' of wind_speed_of_gust / (m s-1) (time: 10; latitude: 600; longitude: 800)>,\n",
       "<iris 'Cube' of x_wind / (m s-1) (time: 10; latitude: 600; longitude: 800)>,\n",
       "<iris 'Cube' of x_wind / (m s-1) (time: 10; pressure: 16; latitude: 601; longitude: 800)>,\n",
       "<iris 'Cube' of x_wind / (m s-1) (time: 10; latitude: 601; longitude: 800)>,\n",
       "<iris 'Cube' of y_wind / (m s-1) (time: 10; latitude: 601; longitude: 800)>,\n",
       "<iris 'Cube' of y_wind / (m s-1) (time: 10; pressure: 16; latitude: 601; longitude: 800)>,\n",
       "<iris 'Cube' of y_wind / (m s-1) (time: 10; latitude: 601; longitude: 800)>]"
      ]
     },
     "execution_count": 38,
     "metadata": {},
     "output_type": "execute_result"
    }
   ],
   "source": [
    "merged_results2"
   ]
  },
  {
   "cell_type": "code",
   "execution_count": null,
   "metadata": {},
   "outputs": [],
   "source": []
  }
 ],
 "metadata": {
  "kernelspec": {
   "display_name": "Python 3",
   "language": "python",
   "name": "python3"
  },
  "language_info": {
   "codemirror_mode": {
    "name": "ipython",
    "version": 3
   },
   "file_extension": ".py",
   "mimetype": "text/x-python",
   "name": "python",
   "nbconvert_exporter": "python",
   "pygments_lexer": "ipython3",
   "version": "3.6.4"
  }
 },
 "nbformat": 4,
 "nbformat_minor": 2
}
